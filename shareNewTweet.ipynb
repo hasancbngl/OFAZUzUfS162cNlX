{
 "cells": [
  {
   "cell_type": "code",
   "execution_count": null,
   "metadata": {},
   "outputs": [],
   "source": [
    "import csv\n",
    "from getpass import getpass\n",
    "from time import sleep \n",
    "from selenium.webdriver.common.keys import Keys\n",
    "from selenium.common.exceptions import NoSuchElementException\n",
    "from selenium.webdriver import Chrome\n",
    "\n",
    "driver = Chrome()\n",
    "driver.get('https://www.twitter.com/login')\n",
    "\n",
    "#find username input\n",
    "username = driver.find_element_by_xpath('//input[@name=\"session[username_or_email]\"]')\n",
    "#send username info\n",
    "username.send_keys('username or gmail')\n",
    "my_password = 'password'\n",
    "\n",
    "#find password input\n",
    "\n",
    "password =driver.find_element_by_xpath('//input[@name=\"session[password]\"]')\n",
    "password.send_keys(my_password)\n",
    "\n",
    "#Log in\n",
    "password.send_keys(Keys.RETURN)   \n",
    "driver.find_element_by_link_text('Tweet').click() "
   ]
  },
  {
   "cell_type": "code",
   "execution_count": 122,
   "metadata": {},
   "outputs": [],
   "source": [
    "#create new tweet\n",
    "tweet_input =driver.find_element_by_xpath('//div[@aria-label=\"Tweet text\"]')\n",
    "message = 'Working on assigment with python for Software Engineer intern position. This tweet sent using python and Selenium .\\n \\n \\n #Python #SoftwareEngineer #Intern #Developer #Coding #SoftwareDeveloper #Assignment'\n",
    "#add the tweet\n",
    "tweet_input.send_keys(message)"
   ]
  },
  {
   "cell_type": "code",
   "execution_count": 123,
   "metadata": {},
   "outputs": [],
   "source": [
    "#Send the tweet\n",
    "tweet_input.send_keys(Keys.CONTROL,Keys.ENTER)"
   ]
  }
 ],
 "metadata": {
  "kernelspec": {
   "display_name": "Python 3",
   "language": "python",
   "name": "python3"
  },
  "language_info": {
   "codemirror_mode": {
    "name": "ipython",
    "version": 3
   },
   "file_extension": ".py",
   "mimetype": "text/x-python",
   "name": "python",
   "nbconvert_exporter": "python",
   "pygments_lexer": "ipython3",
   "version": "3.6.9-final"
  }
 },
 "nbformat": 4,
 "nbformat_minor": 2
}